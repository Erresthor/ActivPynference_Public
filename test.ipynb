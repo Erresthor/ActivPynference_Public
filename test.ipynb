{
 "cells": [
  {
   "cell_type": "code",
   "execution_count": 2,
   "metadata": {},
   "outputs": [
    {
     "name": "stdout",
     "output_type": "stream",
     "text": [
      "0.1.8.local\n"
     ]
    }
   ],
   "source": [
    "import actynf\n",
    "import jax.numpy as jnp\n",
    "print(actynf.__version__)"
   ]
  },
  {
   "cell_type": "code",
   "execution_count": null,
   "metadata": {},
   "outputs": [
    {
     "name": "stdout",
     "output_type": "stream",
     "text": [
      "WARNING:tensorflow:From c:\\Users\\annic\\OneDrive\\Bureau\\MainPhD\\code\\venvs\\jax_new\\lib\\site-packages\\tensorflow_probability\\python\\internal\\backend\\jax\\_utils.py:48: The name tf.logging.TaskLevelStatusMessage is deprecated. Please use tf.compat.v1.logging.TaskLevelStatusMessage instead.\n",
      "\n",
      "WARNING:tensorflow:From c:\\Users\\annic\\OneDrive\\Bureau\\MainPhD\\code\\venvs\\jax_new\\lib\\site-packages\\tensorflow_probability\\python\\internal\\backend\\jax\\_utils.py:48: The name tf.control_flow_v2_enabled is deprecated. Please use tf.compat.v1.control_flow_v2_enabled instead.\n",
      "\n"
     ]
    },
    {
     "ename": "ValueError",
     "evalue": "Expected list, got Array([[[1., 1.],\n        [1., 1.],\n        [1., 1.]],\n\n       [[1., 1.],\n        [1., 1.],\n        [1., 1.]],\n\n       [[1., 1.],\n        [1., 1.],\n        [1., 1.]]], dtype=float32).",
     "output_type": "error",
     "traceback": [
      "\u001b[1;31m---------------------------------------------------------------------------\u001b[0m",
      "\u001b[1;31mValueError\u001b[0m                                Traceback (most recent call last)",
      "Cell \u001b[1;32mIn[3], line 18\u001b[0m\n\u001b[0;32m     15\u001b[0m pe \u001b[38;5;241m=\u001b[39m jnp\u001b[38;5;241m.\u001b[39marray([\u001b[38;5;241m1\u001b[39m,\u001b[38;5;241m1\u001b[39m])\n\u001b[0;32m     16\u001b[0m U \u001b[38;5;241m=\u001b[39m jnp\u001b[38;5;241m.\u001b[39marray([[\u001b[38;5;241m0\u001b[39m],[\u001b[38;5;241m1\u001b[39m]])\n\u001b[1;32m---> 18\u001b[0m r \u001b[38;5;241m=\u001b[39m \u001b[43mlearn_during_trial\u001b[49m\u001b[43m(\u001b[49m\u001b[43mhist_obs\u001b[49m\u001b[43m,\u001b[49m\u001b[43mhist_states\u001b[49m\u001b[43m,\u001b[49m\u001b[43mhist_u_vect\u001b[49m\u001b[43m,\u001b[49m\n\u001b[0;32m     19\u001b[0m \u001b[43m          \u001b[49m\u001b[43mpa\u001b[49m\u001b[43m,\u001b[49m\u001b[43mpb\u001b[49m\u001b[43m,\u001b[49m\u001b[43mpc\u001b[49m\u001b[43m,\u001b[49m\u001b[43mpd\u001b[49m\u001b[43m,\u001b[49m\u001b[43mpe\u001b[49m\u001b[43m,\u001b[49m\u001b[43mU\u001b[49m\u001b[43m,\u001b[49m\n\u001b[0;32m     20\u001b[0m \u001b[43m          \u001b[49m\u001b[43mlearn_what\u001b[49m\u001b[38;5;241;43m=\u001b[39;49m\u001b[43m{\u001b[49m\u001b[38;5;124;43m\"\u001b[39;49m\u001b[38;5;124;43ma\u001b[39;49m\u001b[38;5;124;43m\"\u001b[39;49m\u001b[43m:\u001b[49m\u001b[38;5;28;43;01mTrue\u001b[39;49;00m\u001b[43m,\u001b[49m\u001b[38;5;124;43m\"\u001b[39;49m\u001b[38;5;124;43mb\u001b[39;49m\u001b[38;5;124;43m\"\u001b[39;49m\u001b[43m:\u001b[49m\u001b[38;5;28;43;01mTrue\u001b[39;49;00m\u001b[43m,\u001b[49m\u001b[38;5;124;43m\"\u001b[39;49m\u001b[38;5;124;43mc\u001b[39;49m\u001b[38;5;124;43m\"\u001b[39;49m\u001b[43m:\u001b[49m\u001b[38;5;28;43;01mFalse\u001b[39;49;00m\u001b[43m,\u001b[49m\u001b[38;5;124;43m\"\u001b[39;49m\u001b[38;5;124;43md\u001b[39;49m\u001b[38;5;124;43m\"\u001b[39;49m\u001b[43m:\u001b[49m\u001b[38;5;28;43;01mTrue\u001b[39;49;00m\u001b[43m,\u001b[49m\u001b[38;5;124;43m\"\u001b[39;49m\u001b[38;5;124;43me\u001b[39;49m\u001b[38;5;124;43m\"\u001b[39;49m\u001b[43m:\u001b[49m\u001b[38;5;28;43;01mFalse\u001b[39;49;00m\u001b[43m}\u001b[49m\u001b[43m,\u001b[49m\n\u001b[0;32m     21\u001b[0m \u001b[43m          \u001b[49m\u001b[43mlearn_rates\u001b[49m\u001b[38;5;241;43m=\u001b[39;49m\u001b[43m{\u001b[49m\u001b[38;5;124;43m\"\u001b[39;49m\u001b[38;5;124;43ma\u001b[39;49m\u001b[38;5;124;43m\"\u001b[39;49m\u001b[43m:\u001b[49m\u001b[38;5;241;43m1.0\u001b[39;49m\u001b[43m,\u001b[49m\u001b[38;5;124;43m\"\u001b[39;49m\u001b[38;5;124;43mb\u001b[39;49m\u001b[38;5;124;43m\"\u001b[39;49m\u001b[43m:\u001b[49m\u001b[38;5;241;43m1.0\u001b[39;49m\u001b[43m,\u001b[49m\u001b[38;5;124;43m\"\u001b[39;49m\u001b[38;5;124;43mc\u001b[39;49m\u001b[38;5;124;43m\"\u001b[39;49m\u001b[43m:\u001b[49m\u001b[38;5;241;43m0.0\u001b[39;49m\u001b[43m,\u001b[49m\u001b[38;5;124;43m\"\u001b[39;49m\u001b[38;5;124;43md\u001b[39;49m\u001b[38;5;124;43m\"\u001b[39;49m\u001b[43m:\u001b[49m\u001b[38;5;241;43m1.0\u001b[39;49m\u001b[43m,\u001b[49m\u001b[38;5;124;43m\"\u001b[39;49m\u001b[38;5;124;43me\u001b[39;49m\u001b[38;5;124;43m\"\u001b[39;49m\u001b[43m:\u001b[49m\u001b[38;5;241;43m0.0\u001b[39;49m\u001b[43m}\u001b[49m\u001b[43m,\u001b[49m\n\u001b[0;32m     22\u001b[0m \u001b[43m          \u001b[49m\u001b[43mforget_rates\u001b[49m\u001b[43m \u001b[49m\u001b[38;5;241;43m=\u001b[39;49m\u001b[43m \u001b[49m\u001b[43m{\u001b[49m\u001b[38;5;124;43m\"\u001b[39;49m\u001b[38;5;124;43ma\u001b[39;49m\u001b[38;5;124;43m\"\u001b[39;49m\u001b[43m:\u001b[49m\u001b[38;5;241;43m0.0\u001b[39;49m\u001b[43m,\u001b[49m\u001b[38;5;124;43m\"\u001b[39;49m\u001b[38;5;124;43mb\u001b[39;49m\u001b[38;5;124;43m\"\u001b[39;49m\u001b[43m:\u001b[49m\u001b[38;5;241;43m0.0\u001b[39;49m\u001b[43m,\u001b[49m\u001b[38;5;124;43m\"\u001b[39;49m\u001b[38;5;124;43mc\u001b[39;49m\u001b[38;5;124;43m\"\u001b[39;49m\u001b[43m:\u001b[49m\u001b[38;5;241;43m0.0\u001b[39;49m\u001b[43m,\u001b[49m\u001b[38;5;124;43m\"\u001b[39;49m\u001b[38;5;124;43md\u001b[39;49m\u001b[38;5;124;43m\"\u001b[39;49m\u001b[43m:\u001b[49m\u001b[38;5;241;43m0.0\u001b[39;49m\u001b[43m,\u001b[49m\u001b[38;5;124;43m\"\u001b[39;49m\u001b[38;5;124;43me\u001b[39;49m\u001b[38;5;124;43m\"\u001b[39;49m\u001b[43m:\u001b[49m\u001b[38;5;241;43m0.0\u001b[39;49m\u001b[43m}\u001b[49m\u001b[43m,\u001b[49m\n\u001b[0;32m     23\u001b[0m \u001b[43m          \u001b[49m\u001b[43mgeneralize_state_function\u001b[49m\u001b[38;5;241;43m=\u001b[39;49m\u001b[38;5;28;43;01mNone\u001b[39;49;00m\u001b[43m,\u001b[49m\u001b[43mgeneralize_action_table\u001b[49m\u001b[38;5;241;43m=\u001b[39;49m\u001b[38;5;28;43;01mNone\u001b[39;49;00m\u001b[43m,\u001b[49m\n\u001b[0;32m     24\u001b[0m \u001b[43m          \u001b[49m\u001b[43mcross_action_extrapolation_coeff\u001b[49m\u001b[38;5;241;43m=\u001b[39;49m\u001b[38;5;241;43m0.1\u001b[39;49m\u001b[43m)\u001b[49m\n\u001b[0;32m     26\u001b[0m \u001b[38;5;28mprint\u001b[39m(r)\n",
      "File \u001b[1;32mc:\\Users\\annic\\OneDrive\\Bureau\\MainPhD\\code\\ActivPynference_Public\\actynf\\jaxtynf\\layer_learn.py:264\u001b[0m, in \u001b[0;36mlearn_during_trial\u001b[1;34m(hist_obs_vect, hist_qs, hist_u_vect, pa, pb, pc, pd, pe, U, learn_what, learn_rates, forget_rates, generalize_state_function, generalize_action_table, cross_action_extrapolation_coeff)\u001b[0m\n\u001b[0;32m    259\u001b[0m Ns \u001b[38;5;241m=\u001b[39m pa[\u001b[38;5;241m0\u001b[39m]\u001b[38;5;241m.\u001b[39mshape[\u001b[38;5;241m1\u001b[39m:] \u001b[38;5;66;03m# This is the shape of the hidden state space (fixed for this model)\u001b[39;00m\n\u001b[0;32m    262\u001b[0m \u001b[38;5;66;03m# This is constant across trials (For each action, what is the encoded factor transition)\u001b[39;00m\n\u001b[0;32m    263\u001b[0m \u001b[38;5;66;03m# TODO : integrate into a class\u001b[39;00m\n\u001b[1;32m--> 264\u001b[0m u_all \u001b[38;5;241m=\u001b[39m \u001b[43mvectorize_factorwise_allowable_actions\u001b[49m\u001b[43m(\u001b[49m\u001b[43mU\u001b[49m\u001b[43m,\u001b[49m\u001b[43mpb\u001b[49m\u001b[43m)\u001b[49m\n\u001b[0;32m    266\u001b[0m \u001b[38;5;66;03m# This changes every trial : actual history of encoded factor transition \u001b[39;00m\n\u001b[0;32m    267\u001b[0m u_hist_all_f \u001b[38;5;241m=\u001b[39m posterior_transition_index_factor(u_all,hist_u_vect)\n",
      "File \u001b[1;32mc:\\Users\\annic\\OneDrive\\Bureau\\MainPhD\\code\\ActivPynference_Public\\actynf\\jaxtynf\\layer_learn.py:63\u001b[0m, in \u001b[0;36mvectorize_factorwise_allowable_actions\u001b[1;34m(_u, _B)\u001b[0m\n\u001b[0;32m     60\u001b[0m \u001b[38;5;66;03m# This function takes one of the action index, and decomposes it into action vectors across all factors\u001b[39;00m\n\u001b[0;32m     61\u001b[0m map_function \u001b[38;5;241m=\u001b[39m (\u001b[38;5;28;01mlambda\u001b[39;00m _x : tree_map(factorwise_allowable_action_vectors,\u001b[38;5;28mlist\u001b[39m(_x),_B))\n\u001b[1;32m---> 63\u001b[0m \u001b[38;5;28;01mreturn\u001b[39;00m (\u001b[43mvmap\u001b[49m\u001b[43m(\u001b[49m\u001b[43mmap_function\u001b[49m\u001b[43m)\u001b[49m\u001b[43m(\u001b[49m\u001b[43m_u\u001b[49m\u001b[43m)\u001b[49m)\n",
      "    \u001b[1;31m[... skipping hidden 3 frame]\u001b[0m\n",
      "File \u001b[1;32mc:\\Users\\annic\\OneDrive\\Bureau\\MainPhD\\code\\ActivPynference_Public\\actynf\\jaxtynf\\layer_learn.py:61\u001b[0m, in \u001b[0;36mvectorize_factorwise_allowable_actions.<locals>.<lambda>\u001b[1;34m(_x)\u001b[0m\n\u001b[0;32m     59\u001b[0m     \u001b[38;5;28;01mreturn\u001b[39;00m jax\u001b[38;5;241m.\u001b[39mnn\u001b[38;5;241m.\u001b[39mone_hot(idx,B_f\u001b[38;5;241m.\u001b[39mshape[\u001b[38;5;241m-\u001b[39m\u001b[38;5;241m1\u001b[39m])\n\u001b[0;32m     60\u001b[0m \u001b[38;5;66;03m# This function takes one of the action index, and decomposes it into action vectors across all factors\u001b[39;00m\n\u001b[1;32m---> 61\u001b[0m map_function \u001b[38;5;241m=\u001b[39m (\u001b[38;5;28;01mlambda\u001b[39;00m _x : \u001b[43mtree_map\u001b[49m\u001b[43m(\u001b[49m\u001b[43mfactorwise_allowable_action_vectors\u001b[49m\u001b[43m,\u001b[49m\u001b[38;5;28;43mlist\u001b[39;49m\u001b[43m(\u001b[49m\u001b[43m_x\u001b[49m\u001b[43m)\u001b[49m\u001b[43m,\u001b[49m\u001b[43m_B\u001b[49m\u001b[43m)\u001b[49m)\n\u001b[0;32m     63\u001b[0m \u001b[38;5;28;01mreturn\u001b[39;00m (vmap(map_function)(_u))\n",
      "    \u001b[1;31m[... skipping hidden 1 frame]\u001b[0m\n",
      "File \u001b[1;32mc:\\Users\\annic\\OneDrive\\Bureau\\MainPhD\\code\\venvs\\jax_new\\lib\\site-packages\\jax\\_src\\tree_util.py:342\u001b[0m, in \u001b[0;36m<listcomp>\u001b[1;34m(.0)\u001b[0m\n\u001b[0;32m    340\u001b[0m \u001b[38;5;250m\u001b[39m\u001b[38;5;124;03m\"\"\"Alias of :func:`jax.tree.map`.\"\"\"\u001b[39;00m\n\u001b[0;32m    341\u001b[0m leaves, treedef \u001b[38;5;241m=\u001b[39m tree_flatten(tree, is_leaf)\n\u001b[1;32m--> 342\u001b[0m all_leaves \u001b[38;5;241m=\u001b[39m [leaves] \u001b[38;5;241m+\u001b[39m [\u001b[43mtreedef\u001b[49m\u001b[38;5;241;43m.\u001b[39;49m\u001b[43mflatten_up_to\u001b[49m\u001b[43m(\u001b[49m\u001b[43mr\u001b[49m\u001b[43m)\u001b[49m \u001b[38;5;28;01mfor\u001b[39;00m r \u001b[38;5;129;01min\u001b[39;00m rest]\n\u001b[0;32m    343\u001b[0m \u001b[38;5;28;01mreturn\u001b[39;00m treedef\u001b[38;5;241m.\u001b[39munflatten(f(\u001b[38;5;241m*\u001b[39mxs) \u001b[38;5;28;01mfor\u001b[39;00m xs \u001b[38;5;129;01min\u001b[39;00m \u001b[38;5;28mzip\u001b[39m(\u001b[38;5;241m*\u001b[39mall_leaves))\n",
      "\u001b[1;31mValueError\u001b[0m: Expected list, got Array([[[1., 1.],\n        [1., 1.],\n        [1., 1.]],\n\n       [[1., 1.],\n        [1., 1.],\n        [1., 1.]],\n\n       [[1., 1.],\n        [1., 1.],\n        [1., 1.]]], dtype=float32)."
     ]
    }
   ],
   "source": [
    "from actynf.jaxtynf.layer_learn import learn_during_trial\n",
    "\n",
    "hist_obs = jnp.array([[1,0,0],\n",
    "                     [0,1,0]])\n",
    "\n",
    "hist_states = jnp.array([[0.5,0.5,0],\n",
    "                         [0,0.5,0.5]])\n",
    "\n",
    "hist_u_vect = jnp.array([0,1])\n",
    "\n",
    "pa = [jnp.eye(3)]\n",
    "pb = [jnp.ones((3,3,2))]\n",
    "pc = jnp.array([0,0.5,1])\n",
    "pd = [jnp.array([1,1,1])]\n",
    "pe = jnp.array([1,1])\n",
    "U = jnp.array([[0],[1]])\n",
    "\n",
    "r = learn_during_trial(hist_obs,hist_states,hist_u_vect,\n",
    "          pa,pb,pc,pd,pe,U,\n",
    "          learn_what={\"a\":True,\"b\":True,\"c\":False,\"d\":True,\"e\":False},\n",
    "          learn_rates={\"a\":1.0,\"b\":1.0,\"c\":0.0,\"d\":1.0,\"e\":0.0},\n",
    "          forget_rates = {\"a\":0.0,\"b\":0.0,\"c\":0.0,\"d\":0.0,\"e\":0.0},\n",
    "          generalize_state_function=None,generalize_action_table=None,\n",
    "          cross_action_extrapolation_coeff=0.1)\n",
    "\n",
    "print(r)\n"
   ]
  }
 ],
 "metadata": {
  "kernelspec": {
   "display_name": "jax_new",
   "language": "python",
   "name": "python3"
  },
  "language_info": {
   "codemirror_mode": {
    "name": "ipython",
    "version": 3
   },
   "file_extension": ".py",
   "mimetype": "text/x-python",
   "name": "python",
   "nbconvert_exporter": "python",
   "pygments_lexer": "ipython3",
   "version": "3.10.4"
  }
 },
 "nbformat": 4,
 "nbformat_minor": 2
}
