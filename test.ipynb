{
 "cells": [
  {
   "cell_type": "code",
   "execution_count": 1,
   "metadata": {},
   "outputs": [
    {
     "name": "stdout",
     "output_type": "stream",
     "text": [
      "0.1.43\n"
     ]
    }
   ],
   "source": [
    "import actynf\n",
    "import jax.numpy as jnp\n",
    "print(actynf.__version__)"
   ]
  },
  {
   "cell_type": "code",
   "execution_count": 3,
   "metadata": {},
   "outputs": [
    {
     "name": "stdout",
     "output_type": "stream",
     "text": [
      "[[0.5 0.5 0. ]\n",
      " [0.  0.5 0.5]]\n",
      "[0 1]\n",
      "[Array([[1. , 0. , 0. ],\n",
      "       [0. , 1.5, 0.5],\n",
      "       [0. , 0. , 1. ]], dtype=float32)]\n",
      "[Array([[[1.  , 1.  ],\n",
      "        [1.  , 1.  ],\n",
      "        [1.  , 1.  ]],\n",
      "\n",
      "       [[1.  , 1.25],\n",
      "        [1.  , 1.25],\n",
      "        [1.  , 1.  ]],\n",
      "\n",
      "       [[1.  , 1.25],\n",
      "        [1.  , 1.25],\n",
      "        [1.  , 1.  ]]], dtype=float32)]\n",
      "[ 1. 11.]\n"
     ]
    }
   ],
   "source": [
    "from actynf.jaxtynf.layer_learn import learn_during_trial\n",
    "\n",
    "hist_obs = [jnp.array([0,1,0])]\n",
    "\n",
    "prev_state = jnp.array([0.5,0.5,0])\n",
    "\n",
    "new_state = jnp.array([0,0.5,0.5])\n",
    "\n",
    "print(jnp.vstack((prev_state,new_state)))\n",
    "\n",
    "hist_u_vect = jnp.array([0,1])\n",
    "\n",
    "pa = [jnp.eye(3)]\n",
    "pb = [jnp.ones((3,3,2))]\n",
    "pc = jnp.array([0,0.5,1])\n",
    "pd = [jnp.array([1,1,1])]\n",
    "pe = jnp.array([1,1])\n",
    "U = jnp.array([[0],[1]])\n",
    "\n",
    "r = learn_during_trial(hist_obs,prev_state,new_state,hist_u_vect,\n",
    "          pa,pb,pe,U,\n",
    "          learn_what={\"a\":True,\"b\":True,\"c\":False,\"d\":True,\"e\":True},\n",
    "          learn_rates={\"a\":1.0,\"b\":1.0,\"c\":0.0,\"d\":1.0,\"e\":10.0},\n",
    "          forget_rates = {\"a\":0.0,\"b\":0.0,\"c\":0.0,\"d\":0.0,\"e\":0.0},\n",
    "          generalize_state_function=None,generalize_action_table=None,\n",
    "          cross_action_extrapolation_coeff=0.1)\n",
    "\n",
    "final_a,final_b,final_e = r\n",
    "\n",
    "\n",
    "print(final_a)\n",
    "print(final_b)\n",
    "print(final_e)"
   ]
  }
 ],
 "metadata": {
  "kernelspec": {
   "display_name": "jax_new",
   "language": "python",
   "name": "python3"
  },
  "language_info": {
   "codemirror_mode": {
    "name": "ipython",
    "version": 3
   },
   "file_extension": ".py",
   "mimetype": "text/x-python",
   "name": "python",
   "nbconvert_exporter": "python",
   "pygments_lexer": "ipython3",
   "version": "3.10.4"
  }
 },
 "nbformat": 4,
 "nbformat_minor": 2
}
