{
 "cells": [
  {
   "cell_type": "markdown",
   "metadata": {},
   "source": [
    "# <b> active-pynference </b> : T-maze demo\n",
    "\n",
    "Hello you ! This is a quick demo of the <b>active-pynference</b> / <b>actynf</b> package to simulate MDPs using Sophisticated Inference ! \n",
    "Buckle up buckaroo !\n"
   ]
  },
  {
   "cell_type": "markdown",
   "metadata": {},
   "source": [
    "## 1 . Install the package\n",
    "<sup><sub><b> active-pynference </b> requires Python 3.x. and has been tested for Python 3.11 + but probably works well enough with slightly older versions.</sub></sup>\n",
    "\n",
    "You can install the package by running :\n",
    "\n",
    "```\n",
    "    pip install active-pynference\n",
    "```\n",
    "\n",
    "You can find more complete documentation regarding the package installation in the installation_instrucions.ipynb file."
   ]
  },
  {
   "cell_type": "markdown",
   "metadata": {},
   "source": [
    "## 2. Import the packages needed\n",
    "\n",
    "Now that the package is successfully installed, let's explore what we can do with it !"
   ]
  },
  {
   "cell_type": "code",
   "execution_count": 1,
   "metadata": {},
   "outputs": [
    {
     "name": "stdout",
     "output_type": "stream",
     "text": [
      "Imported active-pynference - version 0.1.2\n"
     ]
    }
   ],
   "source": [
    "# First, let's import stuff !\n",
    "import actynf # import acive-pynference package\n",
    "print(\"Imported active-pynference - version \" + actynf.__version__)"
   ]
  },
  {
   "cell_type": "markdown",
   "metadata": {},
   "source": [
    "## 3. Set up the demo environment\n",
    "\n"
   ]
  },
  {
   "cell_type": "markdown",
   "metadata": {},
   "source": [
    "The active-pynference package relies on a generic component to build both subject environments and models. This generic component is the <i> layer </i>.\n",
    "Let's import it using :"
   ]
  },
  {
   "cell_type": "code",
   "execution_count": 2,
   "metadata": {},
   "outputs": [],
   "source": [
    "from actynf.layer.model_layer import mdp_layer"
   ]
  }
 ],
 "metadata": {
  "kernelspec": {
   "display_name": "behavioural_venv",
   "language": "python",
   "name": "python3"
  },
  "language_info": {
   "codemirror_mode": {
    "name": "ipython",
    "version": 3
   },
   "file_extension": ".py",
   "mimetype": "text/x-python",
   "name": "python",
   "nbconvert_exporter": "python",
   "pygments_lexer": "ipython3",
   "version": "3.8.10"
  },
  "orig_nbformat": 4
 },
 "nbformat": 4,
 "nbformat_minor": 2
}
