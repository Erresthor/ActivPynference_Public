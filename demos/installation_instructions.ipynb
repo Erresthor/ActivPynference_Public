{
 "cells": [
  {
   "cell_type": "markdown",
   "metadata": {},
   "source": [
    "# <b>active-pynference</b> : complete installation instructions\n",
    "\n",
    "How to set this package up nicely ?"
   ]
  },
  {
   "cell_type": "markdown",
   "metadata": {},
   "source": [
    "## 1. Python version\n",
    "\n",
    "First, ensure you have Python 3 installed on your system. You can check the version by running the following command in your terminal or command prompt:\n",
    "```\n",
    "    python --version\n",
    "```\n",
    "If you don't have any Python version installed, you can find it [here](https://www.python.org/)\n",
    "\n",
    "It is also advised to update the package installer for Python (pip) :\n",
    "```\n",
    "    pip install --upgrade pip\n",
    "```\n",
    "\n",
    "Note : <b> active-pynference </b> has been tested for Python 3.11 + but probably works well enough with slightly older versions."
   ]
  },
  {
   "cell_type": "markdown",
   "metadata": {},
   "source": [
    "## 2.  Optional but Recommended - Set-up your virtual environment\n",
    "<sup><sub>\n",
    "A Python virtual environment is a self-contained directory that contains a specific Python interpreter along with its standard library and any additional packages you install. It allows you to create an isolated environment for your Python projects, which helps avoid conflicts between different projects or system-wide Python installations. This way, you can have different versions of Python and different sets of packages for each of your projects without affecting one another.\n",
    "</sub></sup>\n",
    "\n",
    "Although not mandatory, it is highly recommended to use a virtual environment to avoid conflicts with other Python packages on your system. This is a quick guide to setting-up your own Python environment using <i>virtualenv</i>:\n",
    "\n",
    "If you don't have virtualenv installed, you can install it using pip :\n",
    "```\n",
    "    pip install virtualenv\n",
    "```\n",
    "\n",
    "Create a virtual environment in your project directory (replace \"my_virtual_environment_name\" with your preferred environment name):\n",
    "```\n",
    "    virtualenv path/to/my_virtual_environment_name\n",
    "```\n",
    "\n",
    "Once your environment has been created, you may do \"stuff\" with it by activating it : \n",
    "- On a Windows terminal : \n",
    "    ```\n",
    "        my_virtual_environment_name\\Scripts\\activate\n",
    "    ```\n",
    "- On a Linux terminal : \n",
    "    ```\n",
    "        source my_virtual_environment_name/Scripts/activate\n",
    "    ```\n",
    "\n",
    "If everything has gone well, you should see (my_virtual_environment_name) appear before your terminal window input : congratulations ! You may now use pip to install the packagees you want in your environment."
   ]
  },
  {
   "cell_type": "markdown",
   "metadata": {},
   "source": [
    "## 3. Install the package\n",
    "\n",
    "Either in your envrionment or in your system directly, you can install the package using pip : \n",
    "```\n",
    "    pip install active-pynference\n",
    "```\n",
    "pip will automatically install all the required dependencies needed to run the package.\n",
    "\n",
    "To verify that active-pynference has been successfully installed, you can check its version in the terminal using:\n",
    "```\n",
    "    active-pynference --version\n",
    "```\n",
    "\n",
    "In the Python interpreter, you can also check that the installation was successful by running the following :"
   ]
  },
  {
   "cell_type": "code",
   "execution_count": 1,
   "metadata": {},
   "outputs": [
    {
     "name": "stdout",
     "output_type": "stream",
     "text": [
      "0.1.36\n"
     ]
    }
   ],
   "source": [
    "import actynf\n",
    "\n",
    "print(actynf.__version__)"
   ]
  },
  {
   "cell_type": "markdown",
   "metadata": {},
   "source": [
    "You are now ready to use active-pynference in your Python projects. Make sure to refer to the package documentation for usage instructions and examples."
   ]
  }
 ],
 "metadata": {
  "kernelspec": {
   "display_name": "behavioural_venv",
   "language": "python",
   "name": "python3"
  },
  "language_info": {
   "codemirror_mode": {
    "name": "ipython",
    "version": 3
   },
   "file_extension": ".py",
   "mimetype": "text/x-python",
   "name": "python",
   "nbconvert_exporter": "python",
   "pygments_lexer": "ipython3",
   "version": "3.10.4"
  },
  "orig_nbformat": 4
 },
 "nbformat": 4,
 "nbformat_minor": 2
}
