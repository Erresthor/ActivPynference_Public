{
 "cells": [
  {
   "cell_type": "markdown",
   "metadata": {},
   "source": [
    "# Decision making in high uncertainty environments : a behavioural analog to BCI Training\n",
    "\n",
    "This notebook runs simulation for our behavioural experiment."
   ]
  },
  {
   "cell_type": "code",
   "execution_count": 1,
   "metadata": {},
   "outputs": [
    {
     "name": "stdout",
     "output_type": "stream",
     "text": [
      "0.1.39\n"
     ]
    }
   ],
   "source": [
    "import actynf\n",
    "\n",
    "print(actynf.__version__)\n",
    "\n",
    "\n",
    "# ENVIRONMENTAL CONSTANTS :\n",
    "GRID_SIZE = (7,7)\n",
    "START_COORD = [[5,1],[5,2],[4,1]]\n",
    "END_COORD = [0,6]\n",
    "\n",
    "T = 10\n",
    "Th = 2\n",
    "action_cap = 3\n",
    "state_cap = 3\n",
    "structure_hypothesis = actynf.LINEAR"
   ]
  },
  {
   "cell_type": "code",
   "execution_count": null,
   "metadata": {},
   "outputs": [],
   "source": [
    "from actynf import layer,link,layer_network\n",
    "from .models import behavioural_process,naive_model,basic_latent_model,grid_latent_model\n",
    "\n",
    "def agent_model_layer(model_parameters,N_fb_ticks,modeltype=\"naive\"):\n",
    "    A,B,C,D,E,U = behavioural_process(GRID_SIZE,START_COORD,END_COORD,N_fb_ticks)\n",
    "    \n",
    "    if modeltype==\"naive\":\n",
    "        model = naive_model\n",
    "    elif modeltype==\"1d\":\n",
    "        model = basic_latent_model\n",
    "    elif modeltype==\"2d\":\n",
    "        model = grid_latent_model\n",
    "    \n",
    "    process = layer(\"environment\",\"process\",A,B,C,D,E,U,)\n",
    "    \n",
    "    for action_model in [\"angle\",\"position\",\"distance\"]:\n",
    "        a,b,c,d,e,u = model(model_parameters,action_model)\n",
    "        this_layer = layer(\"subject_\"+modeltype+\"_\"+action_model,\"model\",a,b,c,d,e,u,T,Th)\n",
    "        \n",
    "        # layer additionnal options : \n",
    "        this_layer.hyperparams.alpha = 32\n",
    "        this_layer.hyperparams.cap_action_explo = action_cap\n",
    "        this_layer.hyperparams.cap_state_explo = state_cap\n",
    "\n",
    "        this_layer.learn_options.eta = 10\n",
    "        this_layer.learn_options.learn_a = False\n",
    "        this_layer.learn_options.learn_b = True\n",
    "        this_layer.learn_options.learn_d = True\n",
    "        this_layer.learn_options.assume_state_space_structure = structure_hypothesis\n",
    "        this_layer.learn_options.generalize_fadeout_function_temperature = generalize_temperature\n",
    "        \n",
    "        "
   ]
  }
 ],
 "metadata": {
  "kernelspec": {
   "display_name": "jax_new",
   "language": "python",
   "name": "python3"
  },
  "language_info": {
   "codemirror_mode": {
    "name": "ipython",
    "version": 3
   },
   "file_extension": ".py",
   "mimetype": "text/x-python",
   "name": "python",
   "nbconvert_exporter": "python",
   "pygments_lexer": "ipython3",
   "version": "3.10.4"
  }
 },
 "nbformat": 4,
 "nbformat_minor": 2
}
